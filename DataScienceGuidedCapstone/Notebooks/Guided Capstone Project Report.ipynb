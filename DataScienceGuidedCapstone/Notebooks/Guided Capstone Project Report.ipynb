{
 "cells": [
  {
   "cell_type": "markdown",
   "metadata": {},
   "source": [
    "<center><h1> Big Mountain Strategy Summary</h1></center>\n",
    "<center><h6> Author: C. Perez </h6></center>"
   ]
  },
  {
   "cell_type": "markdown",
   "metadata": {},
   "source": [
    "<h3> The Business Dillema </h3>"
   ]
  },
  {
   "cell_type": "markdown",
   "metadata": {},
   "source": [
    "How can Big Mountain Resort\n",
    "1. Improve its pricing strategy such that each ticket this season increases in cost by a minimum of 4.40 USD? Or,\n",
    "2. Implement cost cutting measures, that do not undermine the cost of each ticket, to recover 1.5 million in new expenses at minimum, and may also support an increase in ticket cost?"
   ]
  },
  {
   "cell_type": "markdown",
   "metadata": {},
   "source": [
    "### Current Pricing Strategy Comparison"
   ]
  },
  {
   "cell_type": "markdown",
   "metadata": {},
   "source": [
    "Current pricing data for ski resorts across the country show the following distribution of weekday and weekend pricing by State."
   ]
  },
  {
   "cell_type": "markdown",
   "metadata": {},
   "source": [
    "![](ticket_price_distribution_by_state.png)"
   ]
  },
  {
   "cell_type": "markdown",
   "metadata": {},
   "source": [
    "From the above we noticed 2 key things:\n",
    "1. While Big Mountain's current pricing is on the higher end of the state distribution, it is one of few states that charge the same ticket price for weekday and weekend admission. The majority of states charge more for weekend admission and hence there seems to be flexibility in weekend pricing at minimum.\n",
    "2. Big Mountain's pricing is already an outlier for the state, yet business has been consistent and profitable. This hints at the possiblity that people are willing to pay more for the services that Big Mountain provides even though it's pricing is already comparitively high for the State. That being said we wouldn't want to overestimate the increase customers are willing to pay and lose business to resorts currently at a lower price point."
   ]
  },
  {
   "cell_type": "markdown",
   "metadata": {},
   "source": [
    "### Strategic Assumptions & Limitations"
   ]
  },
  {
   "cell_type": "markdown",
   "metadata": {},
   "source": [
    "Most customers tend to procure services based on the business offerings and each customer's budget. This line of thinking led us to assume that there is a correlation between the services each resort offers and the associated ticket price customers are willing to pay. Along with the previous assumption, a key limitation we have is that we do not have complete pricing data for weekday and weekend ticket prices. However, because we have more complete data for weekend prices, we have decided to use weekend prices as our target to estimate.\n",
    "\n",
    "Now the question becomes how do we use the weekend price point and each resort's associated features (services) to build a model that can give us a good approximation of what our optimized price point should be? (under the given assumption of course).\n",
    "\n",
    "In conducting a correlation analysis we were able to immediately identify key services or features that we feel correlate well with weekend price, our target variable. From below we can see those features are: Vertical Drop, Snow Making (acres), Projected Days Open, Fast Quads, and Runs. Interestingly enough, some of the engineered features actually didn't correlate well with the target variable.\n",
    "\n",
    "![](corr_heat_map.png)"
   ]
  },
  {
   "cell_type": "markdown",
   "metadata": {},
   "source": [
    "### Brief Model Discussion & Feature Importance"
   ]
  },
  {
   "cell_type": "markdown",
   "metadata": {},
   "source": [
    "After testing a few models, a random forest regressor was decided on as the corresponding test accuracy leads us to believe that it will perform better. The feauture importance for the model chosen is shown below and confirms initial assumptions derived from the correlation analysis.\n",
    "\n",
    "![](feat_importance.png)\n"
   ]
  },
  {
   "cell_type": "markdown",
   "metadata": {},
   "source": [
    "### What Price Does the Model Support For Big Mountain?"
   ]
  },
  {
   "cell_type": "markdown",
   "metadata": {},
   "source": [
    "The model supports Big Mountain pricing at roughly 96 USD, with a margin of error of roughly 10 USD. This suggests that there is room for an increase to about $86 which already fulfills item 1 of the business dilemma. "
   ]
  },
  {
   "cell_type": "markdown",
   "metadata": {},
   "source": [
    "###  A Few Modeling Scenarios"
   ]
  },
  {
   "cell_type": "markdown",
   "metadata": {},
   "source": [
    "Given the following options the key stakeholders have initially discussed, we used the developed model to test whether these changes would support a further increase or decrease from the new price point. Those are below along with a descirption of options available:\n",
    "\n",
    "The business has shortlisted some options:\n",
    "1. Permanently closing down up to 10 of the least used runs. This doesn't impact any other resort statistics.\n",
    "2. Increase the vertical drop by adding a run to a point 150 feet lower down but requiring the installation of an additional chair lift to bring skiers back up, without additional snow making coverage\n",
    "3. Same as number 2, but adding 2 acres of snow making cover\n",
    "4. Increase the longest run by 0.2 mile to boast 3.5 miles length, requiring an additional snow making coverage of 4 acres\n",
    "\n",
    "The expected number of visitors over the season is 350,000 and, on average, visitors ski for five days. Assume the provided data includes the additional lift that Big Mountain recently installed."
   ]
  },
  {
   "cell_type": "markdown",
   "metadata": {},
   "source": [
    "### Option 1"
   ]
  },
  {
   "cell_type": "markdown",
   "metadata": {},
   "source": [
    "Close up to 10 of the least used runs. The number of runs is the only parameter varying here and the associated ticket and revenue changes can be seen below:\n",
    "\n",
    "![](option1.png)"
   ]
  },
  {
   "cell_type": "markdown",
   "metadata": {},
   "source": [
    "The model says closing one run makes no difference. Closing 2 and 3 successively reduces support for ticket price and so revenue. If Big Mountain closes down 3 runs, it seems they may as well close down 4 or 5 as there's no further loss in ticket price. Increasing the closures down to 6 or more leads to a large drop. "
   ]
  },
  {
   "cell_type": "markdown",
   "metadata": {},
   "source": [
    "### Option 2"
   ]
  },
  {
   "cell_type": "markdown",
   "metadata": {},
   "source": [
    "In this scenario, Big Mountain is adding a run, increasing the vertical drop by 150 feet, and installing an additional chair lift. The results of this option support an increase in optimized ticket price of 1.99 USD and a total increase in revenue of about 3,474,638 USD."
   ]
  },
  {
   "cell_type": "markdown",
   "metadata": {},
   "source": [
    "### Option 3"
   ]
  },
  {
   "cell_type": "markdown",
   "metadata": {},
   "source": [
    "In this scenario, Big Mountain is adding a run, increasing the vertical drop by 150 feet, increasing the snow making acres by 2 acres, and installing an additional chair lift. The results of this option support an increase in optimized ticket price of 1.99 USD and a total increase in revenue of about 3,474,638 USD, which is no change from the previous. This, from a business perspective, shows that adding the additonal acres will serve only as an expense with no benefit in revenue."
   ]
  },
  {
   "cell_type": "markdown",
   "metadata": {},
   "source": [
    "### Option 4"
   ]
  },
  {
   "cell_type": "markdown",
   "metadata": {},
   "source": [
    "This scenario calls for increasing the longest run by .2 miles and guaranteeing its snow coverage by adding 4 acres of snow making capability and the model shows no benefit in taking these measures. There is zero change in ticket price and assocaited revenue and hence this option will only increase costs."
   ]
  },
  {
   "cell_type": "markdown",
   "metadata": {},
   "source": [
    "### Conclusion and Next Steps"
   ]
  },
  {
   "cell_type": "markdown",
   "metadata": {},
   "source": [
    "This model works very well in establishing a new price point (roughly 96 USD with a 10 USD margin of error) that the data supports and although we have tried only 4 options we can build a dashboard such that any user in the organization can choose the services to change and see the predicted price point and projected revenues."
   ]
  }
 ],
 "metadata": {
  "kernelspec": {
   "display_name": "Python 3",
   "language": "python",
   "name": "python3"
  },
  "language_info": {
   "codemirror_mode": {
    "name": "ipython",
    "version": 3
   },
   "file_extension": ".py",
   "mimetype": "text/x-python",
   "name": "python",
   "nbconvert_exporter": "python",
   "pygments_lexer": "ipython3",
   "version": "3.9.0"
  },
  "toc": {
   "base_numbering": 1,
   "nav_menu": {},
   "number_sections": true,
   "sideBar": true,
   "skip_h1_title": false,
   "title_cell": "Table of Contents",
   "title_sidebar": "Contents",
   "toc_cell": false,
   "toc_position": {},
   "toc_section_display": true,
   "toc_window_display": true
  },
  "varInspector": {
   "cols": {
    "lenName": 16,
    "lenType": 16,
    "lenVar": 40
   },
   "kernels_config": {
    "python": {
     "delete_cmd_postfix": "",
     "delete_cmd_prefix": "del ",
     "library": "var_list.py",
     "varRefreshCmd": "print(var_dic_list())"
    },
    "r": {
     "delete_cmd_postfix": ") ",
     "delete_cmd_prefix": "rm(",
     "library": "var_list.r",
     "varRefreshCmd": "cat(var_dic_list()) "
    }
   },
   "types_to_exclude": [
    "module",
    "function",
    "builtin_function_or_method",
    "instance",
    "_Feature"
   ],
   "window_display": false
  }
 },
 "nbformat": 4,
 "nbformat_minor": 4
}
