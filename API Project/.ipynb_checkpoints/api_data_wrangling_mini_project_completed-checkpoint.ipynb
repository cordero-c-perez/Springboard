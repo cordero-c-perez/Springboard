{
 "cells": [
  {
   "cell_type": "markdown",
   "metadata": {},
   "source": [
    "This exercise will require you to pull some data from the Qunadl API. Qaundl is currently the most widely used aggregator of financial market data."
   ]
  },
  {
   "cell_type": "markdown",
   "metadata": {},
   "source": [
    "As a first step, you will need to register a free account on the http://www.quandl.com website."
   ]
  },
  {
   "cell_type": "markdown",
   "metadata": {},
   "source": [
    "After you register, you will be provided with a unique API key, that you should store:"
   ]
  },
  {
   "cell_type": "code",
   "execution_count": 1,
   "metadata": {},
   "outputs": [],
   "source": [
    "# Store the API key as a string - according to PEP8, constants are always named in all upper case\n",
    "\n",
    "# for security and ease API key will be loaded from locally saved file\n",
    "\n",
    "# read the first 1 line (quandl api key)\n",
    "with open('quandl.txt') as file:\n",
    "    API_KEY = file.readline()\n",
    "\n"
   ]
  },
  {
   "cell_type": "markdown",
   "metadata": {},
   "source": [
    "Qaundl has a large number of data sources, but, unfortunately, most of them require a Premium subscription. Still, there are also a good number of free datasets."
   ]
  },
  {
   "cell_type": "markdown",
   "metadata": {},
   "source": [
    "For this mini project, we will focus on equities data from the Frankfurt Stock Exhange (FSE), which is available for free. We'll try and analyze the stock prices of a company called Carl Zeiss Meditec, which manufactures tools for eye examinations, as well as medical lasers for laser eye surgery: https://www.zeiss.com/meditec/int/home.html. The company is listed under the stock ticker AFX_X."
   ]
  },
  {
   "cell_type": "markdown",
   "metadata": {},
   "source": [
    "You can find the detailed Quandl API instructions here: https://docs.quandl.com/docs/time-series"
   ]
  },
  {
   "cell_type": "markdown",
   "metadata": {},
   "source": [
    "While there is a dedicated Python package for connecting to the Quandl API, we would prefer that you use the *requests* package, which can be easily downloaded using *pip* or *conda*. You can find the documentation for the package here: http://docs.python-requests.org/en/master/ "
   ]
  },
  {
   "cell_type": "markdown",
   "metadata": {},
   "source": [
    "Finally, apart from the *requests* package, you are encouraged to not use any third party Python packages, such as *pandas*, and instead focus on what's available in the Python Standard Library (the *collections* module might come in handy: https://pymotw.com/3/collections/ ).\n",
    "Also, since you won't have access to DataFrames, you are encouraged to us Python's native data structures - preferably dictionaries, though some questions can also be answered using lists.\n",
    "You can read more on these data structures here: https://docs.python.org/3/tutorial/datastructures.html"
   ]
  },
  {
   "cell_type": "markdown",
   "metadata": {},
   "source": [
    "Keep in mind that the JSON responses you will be getting from the API map almost one-to-one to Python's dictionaries. Unfortunately, they can be very nested, so make sure you read up on indexing dictionaries in the documentation provided above."
   ]
  },
  {
   "cell_type": "code",
   "execution_count": 2,
   "metadata": {},
   "outputs": [],
   "source": [
    "# First, import the relevant modules\n",
    "import json\n",
    "import requests\n"
   ]
  },
  {
   "cell_type": "code",
   "execution_count": 3,
   "metadata": {},
   "outputs": [
    {
     "name": "stdout",
     "output_type": "stream",
     "text": [
      "Enter database code:FSE\n",
      "Enter dataset code:AFX_X\n",
      "Enter return type:json\n",
      " \n",
      "Sample Row:\n",
      "{'dataset_data': {'limit': 1, 'transform': None, 'column_index': None, 'column_names': ['Date', 'Open', 'High', 'Low', 'Close', 'Change', 'Traded Volume', 'Turnover', 'Last Price of the Day', 'Daily Traded Units', 'Daily Turnover'], 'start_date': '2000-06-07', 'end_date': '2020-12-01', 'frequency': 'daily', 'data': [['2020-12-01', 112.2, 112.2, 111.5, 112.0, None, 51.0, 5703.0, None, None, None]], 'collapse': None, 'order': None}}\n"
     ]
    }
   ],
   "source": [
    "# Now, call the Quandl API and pull out a small sample of the data (only one day) to get a glimpse\n",
    "# into the JSON structure that will be returned\n",
    "\n",
    "# set url for site\n",
    "database_code = input('Enter database code:')\n",
    "dataset_code = input('Enter dataset code:')\n",
    "return_format = input('Enter return type:')\n",
    "url = 'https://www.quandl.com/api/v3/datasets/'+database_code+'/'+dataset_code+'/'+'data.'+return_format\n",
    "\n",
    "\n",
    "# set api key parameter and limit parameter for 1 row of the data\n",
    "params = dict(api_key = API_KEY, limit = '1')\n",
    "\n",
    "\n",
    "# make request to the site for custom url and json return\n",
    "response = requests.get(url, params = params)\n",
    "response = response.json()\n",
    "\n",
    "\n",
    "# view the sample\n",
    "print(' ')\n",
    "print('Sample Row:')\n",
    "print(response)\n"
   ]
  },
  {
   "cell_type": "code",
   "execution_count": 4,
   "metadata": {},
   "outputs": [
    {
     "name": "stdout",
     "output_type": "stream",
     "text": [
      "limit :  1\n",
      "transform :  None\n",
      "column_index :  None\n",
      "column_names :  ['Date', 'Open', 'High', 'Low', 'Close', 'Change', 'Traded Volume', 'Turnover', 'Last Price of the Day', 'Daily Traded Units', 'Daily Turnover']\n",
      "start_date :  2000-06-07\n",
      "end_date :  2020-12-01\n",
      "frequency :  daily\n",
      "data :  [['2020-12-01', 112.2, 112.2, 111.5, 112.0, None, 51.0, 5703.0, None, None, None]]\n",
      "collapse :  None\n",
      "order :  None\n"
     ]
    }
   ],
   "source": [
    "# Inspect the JSON structure of the object you created, and take note of how nested it is,\n",
    "# as well as the overall structure\n",
    "\n",
    "# get feel for keys and values via unpacking items() in larger dict\n",
    "for key, value in response['dataset_data'].items():\n",
    "    print(key, ': ', value)\n",
    "    \n",
    "    \n",
    "# this shows that I can create vectors from keys based on position of column names\n",
    "\n"
   ]
  },
  {
   "cell_type": "markdown",
   "metadata": {},
   "source": [
    "These are your tasks for this mini project:\n",
    "\n",
    "1. Collect data from the Franfurt Stock Exchange, for the ticker AFX_X, for the whole year 2017 (keep in mind that the date format is YYYY-MM-DD).\n",
    "2. Convert the returned JSON object into a Python dictionary.\n",
    "3. Calculate what the highest and lowest opening prices were for the stock in this period.\n",
    "4. What was the largest change in any one day (based on High and Low price)?\n",
    "5. What was the largest change between any two days (based on Closing Price)?\n",
    "6. What was the average daily trading volume during this year?\n",
    "7. (Optional) What was the median trading volume during this year. (Note: you may need to implement your own function for calculating the median.)"
   ]
  },
  {
   "cell_type": "markdown",
   "metadata": {
    "collapsed": true
   },
   "source": [
    "<center><h1> Project Start </h1></center>"
   ]
  },
  {
   "cell_type": "markdown",
   "metadata": {},
   "source": [
    "## Tasks: 1 & 2"
   ]
  },
  {
   "cell_type": "code",
   "execution_count": 8,
   "metadata": {},
   "outputs": [
    {
     "name": "stdout",
     "output_type": "stream",
     "text": [
      "Enter database code: FSE\n",
      "Enter dataset code: AFX_X\n",
      "Enter return type: json\n",
      "Enter start date: YYYY-MM-DD: 2017-01-01\n",
      "Enter end date: YYYY-MM-DD: 2017-12-31\n"
     ]
    }
   ],
   "source": [
    "# set url for site\n",
    "database_code = input('Enter database code: ')\n",
    "dataset_code = input('Enter dataset code: ')\n",
    "return_format = input('Enter return type: ')\n",
    "url = 'https://www.quandl.com/api/v3/datasets/'+database_code+'/'+dataset_code+'/'+'data.'+return_format\n",
    "\n",
    "\n",
    "# set api key parameter and limit parameter for 1 row of the data\n",
    "start_date = input('Enter start date: YYYY-MM-DD: ')\n",
    "end_date = input('Enter end date: YYYY-MM-DD: ')\n",
    "params = dict(api_key = API_KEY, start_date = start_date, end_date = end_date)\n",
    "\n",
    "\n",
    "# make request to the site for custom url and json return\n",
    "response = requests.get(url, params = params)\n",
    "response = response.json()\n"
   ]
  },
  {
   "cell_type": "markdown",
   "metadata": {},
   "source": [
    "#### Extract Data"
   ]
  },
  {
   "cell_type": "code",
   "execution_count": 113,
   "metadata": {},
   "outputs": [],
   "source": [
    "# create empty dictionary to hold individual features\n",
    "variable_dict = {}\n",
    "\n",
    "\n",
    "# create keys for dictionary from response key 'column_names'\n",
    "for name in response['dataset_data']['column_names']:\n",
    "    variable_dict[name] = []\n",
    "\n",
    "    \n",
    "# create key list for easy access in nested loop\n",
    "key_list = response['dataset_data']['column_names']\n",
    "\n",
    "\n",
    "# create fecture vectors as separte lists in varaible dictionary\n",
    "for i in range(0,len(response['dataset_data']['data'])):\n",
    "    for k in range(0,10):\n",
    "        variable_dict[key_list[k]].append(response['dataset_data']['data'][i][k])\n",
    "\n",
    "\n",
    "# Convert None type in each list using list comprehension\n",
    "for i in range(0,len(response['dataset_data']['column_names'])):\n",
    "    variable_dict[key_list[i]] = [0 if x == None else x for x in variable_dict[key_list[i]]]\n"
   ]
  },
  {
   "cell_type": "markdown",
   "metadata": {},
   "source": [
    "## Task 3"
   ]
  },
  {
   "cell_type": "code",
   "execution_count": 114,
   "metadata": {},
   "outputs": [
    {
     "name": "stdout",
     "output_type": "stream",
     "text": [
      "Highest Opening Price:  53.11\n"
     ]
    }
   ],
   "source": [
    "print('Highest Opening Price: ', max(variable_dict['Open']))"
   ]
  },
  {
   "cell_type": "code",
   "execution_count": 115,
   "metadata": {},
   "outputs": [
    {
     "name": "stdout",
     "output_type": "stream",
     "text": [
      "Lowest Opening Price:  0\n"
     ]
    }
   ],
   "source": [
    "print('Lowest Opening Price: ', min(variable_dict['Open']))"
   ]
  },
  {
   "cell_type": "markdown",
   "metadata": {},
   "source": [
    "## Task 4"
   ]
  },
  {
   "cell_type": "code",
   "execution_count": 118,
   "metadata": {},
   "outputs": [
    {
     "name": "stdout",
     "output_type": "stream",
     "text": [
      "Highest Change:  2.81\n"
     ]
    }
   ],
   "source": [
    "change = []\n",
    "\n",
    "for index in range(0,len(variable_dict['Open'])):\n",
    "    change.append(abs(variable_dict['High'][index] - variable_dict['Low'][index]))\n",
    "\n",
    "print('Highest Change: ', round(max(change),2))"
   ]
  },
  {
   "cell_type": "markdown",
   "metadata": {},
   "source": [
    "## Task 5"
   ]
  },
  {
   "cell_type": "code",
   "execution_count": 119,
   "metadata": {},
   "outputs": [
    {
     "name": "stdout",
     "output_type": "stream",
     "text": [
      "Highest Change:  2.56\n"
     ]
    }
   ],
   "source": [
    "change_closing = []\n",
    "\n",
    "for index in range(0,len(variable_dict['Close'])-1):\n",
    "    change_closing.append(abs(variable_dict['Close'][index+1] - variable_dict['Close'][index]))\n",
    "\n",
    "print('Highest Change: ', round(max(change_closing),2))"
   ]
  },
  {
   "cell_type": "markdown",
   "metadata": {},
   "source": [
    "## Task 6"
   ]
  },
  {
   "cell_type": "code",
   "execution_count": 128,
   "metadata": {},
   "outputs": [
    {
     "name": "stdout",
     "output_type": "stream",
     "text": [
      "Average Daily Trade Volume 89124.34\n"
     ]
    }
   ],
   "source": [
    "def avg(list_n):\n",
    "    average = 0\n",
    "    for i in list_n:\n",
    "        average += i\n",
    "    return round(average/len(list_n),2)\n",
    "\n",
    "\n",
    "print('Average Daily Trade Volume' , avg(variable_dict['Traded Volume']))"
   ]
  },
  {
   "cell_type": "markdown",
   "metadata": {},
   "source": [
    "## Task 7"
   ]
  },
  {
   "cell_type": "code",
   "execution_count": 136,
   "metadata": {},
   "outputs": [
    {
     "name": "stdout",
     "output_type": "stream",
     "text": [
      "Median Daily Trade Volume 76600.0\n"
     ]
    }
   ],
   "source": [
    "def med(list_n):\n",
    "    \n",
    "    list_n = sorted(list_n)\n",
    "    length = len(list_n)\n",
    "    \n",
    "    if length % 2 == 0:\n",
    "        return (list_n[length/2]+list_n[(length/2)+1])/2\n",
    "    else:\n",
    "        return list_n[((length-1)//2) + 1]\n",
    "\n",
    "\n",
    "print('Median Daily Trade Volume' , med(variable_dict['Traded Volume']))"
   ]
  }
 ],
 "metadata": {
  "kernelspec": {
   "display_name": "Python 3",
   "language": "python",
   "name": "python3"
  },
  "language_info": {
   "codemirror_mode": {
    "name": "ipython",
    "version": 3
   },
   "file_extension": ".py",
   "mimetype": "text/x-python",
   "name": "python",
   "nbconvert_exporter": "python",
   "pygments_lexer": "ipython3",
   "version": "3.9.0"
  }
 },
 "nbformat": 4,
 "nbformat_minor": 2
}
